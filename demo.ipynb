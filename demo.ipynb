{
 "cells": [
  {
   "cell_type": "markdown",
   "metadata": {},
   "source": [
    "# Demo for the *sheaves_on_posets* SageMath package"
   ]
  },
  {
   "cell_type": "markdown",
   "metadata": {},
   "source": [
    "This package can be used to calculate the cohomology modules of *finite locally free sheaves of modules over a commutative ring* on finite posets. As the category of finite posets is equivalent to the category of finite T0 topological spaces, this provides a way of calculating the sheaf cohomology for such spaces. \n",
    "\n",
    "Moreover, we can determine the *dualizing complex* of a finite poset with respect to a commutative ring. "
   ]
  },
  {
   "cell_type": "code",
   "execution_count": 1,
   "metadata": {},
   "outputs": [],
   "source": [
    "from sheaves_on_posets import LocFreeSheaf"
   ]
  },
  {
   "cell_type": "markdown",
   "metadata": {},
   "source": [
    "As an example, we consider a five-point model of the unit disk "
   ]
  },
  {
   "cell_type": "code",
   "execution_count": 2,
   "metadata": {},
   "outputs": [
    {
     "data": {
      "image/png": "[encoded data removed]",
      "text/plain": [
       "Graphics object consisting of 12 graphics primitives"
      ]
     },
     "metadata": {},
     "output_type": "display_data"
    }
   ],
   "source": [
    "D = Poset({0:[2,3,4], 1:[2, 3, 4], 2:[4], 3:[4], 4:[]})\n",
    "D.show()"
   ]
  },
  {
   "cell_type": "markdown",
   "metadata": {},
   "source": [
    "A finite locally free sheaf of modules (over a fixed commutative ring) on a finite poset is just a functor from the poset (viewed as a category in the usual way) to the category of free modules of finite rank. So to define a sheaf on ``D`` we need to specify the rank of the stalk at every point and a matrix for every cover relation (that is, every arrow in the diagram above)."
   ]
  },
  {
   "cell_type": "code",
   "execution_count": 3,
   "metadata": {},
   "outputs": [
    {
     "data": {
      "text/plain": [
       "Locally Free Sheaf of Modules over Integer Ring on Finite poset containing 5 elements"
      ]
     },
     "execution_count": 3,
     "metadata": {},
     "output_type": "execute_result"
    }
   ],
   "source": [
    "stalk_dict = {\n",
    "    0:0,\n",
    "    1:0,\n",
    "    2:0,\n",
    "    3:0,\n",
    "    4:1\n",
    "}\n",
    "\n",
    "# instead of a matrix, we can set 0 for the zero map or 1 for the identity matrix\n",
    "restriction_dict = {\n",
    "    (0, 2):0,\n",
    "    (0, 3):0,\n",
    "    (1, 2):0,\n",
    "    (1, 3):0,\n",
    "    (2, 4):0,\n",
    "    (3, 4):0\n",
    "}\n",
    "\n",
    "# The base ring can be specified with the key-word argument base_ring, it dedfaults to the ring of integers\n",
    "F = LocFreeSheaf(stalk_dict, restriction_dict, domain_poset = D)\n",
    "F\n"
   ]
  },
  {
   "cell_type": "markdown",
   "metadata": {},
   "source": [
    "We can access the stalks and restriction maps of ``F``"
   ]
  },
  {
   "cell_type": "code",
   "execution_count": 4,
   "metadata": {},
   "outputs": [
    {
     "data": {
      "text/plain": [
       "Rank-0 free module Stalk of Locally Free Sheaf of Modules over Integer Ring on Finite poset containing 5 elements at 0 over the Integer Ring"
      ]
     },
     "execution_count": 4,
     "metadata": {},
     "output_type": "execute_result"
    }
   ],
   "source": [
    "F.stalk(0)"
   ]
  },
  {
   "cell_type": "code",
   "execution_count": 5,
   "metadata": {},
   "outputs": [
    {
     "data": {
      "text/plain": [
       "Rank-1 free module Stalk of Locally Free Sheaf of Modules over Integer Ring on Finite poset containing 5 elements at 4 over the Integer Ring"
      ]
     },
     "execution_count": 5,
     "metadata": {},
     "output_type": "execute_result"
    }
   ],
   "source": [
    "F.stalk(4)"
   ]
  },
  {
   "cell_type": "code",
   "execution_count": 6,
   "metadata": {},
   "outputs": [
    {
     "data": {
      "text/plain": [
       "Generic morphism:\n",
       "  From: Rank-0 free module Stalk of Locally Free Sheaf of Modules over Integer Ring on Finite poset containing 5 elements at 2 over the Integer Ring\n",
       "  To:   Rank-1 free module Stalk of Locally Free Sheaf of Modules over Integer Ring on Finite poset containing 5 elements at 4 over the Integer Ring"
      ]
     },
     "execution_count": 6,
     "metadata": {},
     "output_type": "execute_result"
    }
   ],
   "source": [
    "F.restriction(2, 4)"
   ]
  },
  {
   "cell_type": "markdown",
   "metadata": {},
   "source": [
    "Lets build the same sheaf in another way. We can also start with a constant rank-1 sheaf on the singleton and extend by zero. "
   ]
  },
  {
   "cell_type": "code",
   "execution_count": 7,
   "metadata": {},
   "outputs": [],
   "source": [
    "# By not specifying the domain poset, the domain poset will be build internally. \n",
    "C = LocFreeSheaf({0:1}, {})"
   ]
  },
  {
   "cell_type": "code",
   "execution_count": 8,
   "metadata": {},
   "outputs": [
    {
     "data": {
      "image/png": "[encoded data removed]",
      "text/plain": [
       "Graphics object consisting of 2 graphics primitives"
      ]
     },
     "metadata": {},
     "output_type": "display_data"
    }
   ],
   "source": [
    "C.domain_poset().show()"
   ]
  },
  {
   "cell_type": "code",
   "execution_count": 9,
   "metadata": {},
   "outputs": [],
   "source": [
    "inclusion_map = Hom(C.domain_poset(), D)(lambda point: {0:4}[point])\n",
    "F2 = C.extend_by_zero(inclusion_map)"
   ]
  },
  {
   "cell_type": "markdown",
   "metadata": {},
   "source": [
    "The sheaf cohomology can be calculated using the *Godement resolution*. The cochain complex obtained after taking global sections of this resolution can be accessed by ``godement_cochain_complex``. "
   ]
  },
  {
   "cell_type": "code",
   "execution_count": 10,
   "metadata": {},
   "outputs": [
    {
     "data": {
      "text/plain": [
       "Chain complex with at most 3 nonzero terms over Integer Ring"
      ]
     },
     "execution_count": 10,
     "metadata": {},
     "output_type": "execute_result"
    }
   ],
   "source": [
    "F.godement_cochain_complex()"
   ]
  },
  {
   "cell_type": "code",
   "execution_count": 11,
   "metadata": {},
   "outputs": [
    {
     "data": {
      "text/plain": [
       "            [-1  0  1  0]       [1]      \n",
       "            [-1  0  0  1]       [1]      \n",
       "            [ 0 -1  1  0]       [1]      \n",
       "            [ 0 -1  0  1]       [1]      \n",
       " 0 <-- C_2 <-------------- C_1 <---- C_0 <-- 0 "
      ]
     },
     "execution_count": 11,
     "metadata": {},
     "output_type": "execute_result"
    }
   ],
   "source": [
    "ascii_art(F.godement_cochain_complex())"
   ]
  },
  {
   "cell_type": "markdown",
   "metadata": {},
   "source": [
    "The sheaf cohomology of *(D, F)* is now simply the cohomology of this complex. "
   ]
  },
  {
   "cell_type": "code",
   "execution_count": 12,
   "metadata": {},
   "outputs": [
    {
     "data": {
      "text/plain": [
       "{0: 0, 1: 0, 2: Z}"
      ]
     },
     "execution_count": 12,
     "metadata": {},
     "output_type": "execute_result"
    }
   ],
   "source": [
    "F.cohomology()"
   ]
  },
  {
   "cell_type": "markdown",
   "metadata": {},
   "source": [
    "Lets calculate the sheaf cohomology of the constant sheaf on a random poset"
   ]
  },
  {
   "cell_type": "code",
   "execution_count": 15,
   "metadata": {},
   "outputs": [
    {
     "data": {
      "image/png": "[encoded data removed]",
      "text/plain": [
       "Graphics object consisting of 15 graphics primitives"
      ]
     },
     "metadata": {},
     "output_type": "display_data"
    },
    {
     "data": {
      "text/plain": [
       "{0: Z x Z, 1: 0, 2: 0, 3: 0}"
      ]
     },
     "execution_count": 15,
     "metadata": {},
     "output_type": "execute_result"
    }
   ],
   "source": [
    "set_random_seed(2020)\n",
    "\n",
    "from sheaves_on_posets import ConstantSheaf\n",
    "\n",
    "npoints = 8\n",
    "p = posets.RandomPoset(npoints, .3)\n",
    "p.show()\n",
    "s = ConstantSheaf(p)\n",
    "s.cohomology()"
   ]
  },
  {
   "cell_type": "markdown",
   "metadata": {},
   "source": [
    "## Dualizing Complex"
   ]
  },
  {
   "cell_type": "code",
   "execution_count": 16,
   "metadata": {},
   "outputs": [],
   "source": [
    "from sheaves_on_posets import dualizing_complex"
   ]
  },
  {
   "cell_type": "markdown",
   "metadata": {},
   "source": [
    "Given a poset and a commutative ring, we can determine the dualizing complex."
   ]
  },
  {
   "cell_type": "code",
   "execution_count": 17,
   "metadata": {},
   "outputs": [
    {
     "data": {
      "text/plain": [
       "(Cochain) Complex of Locally Free Sheaves of Modules over Integer Ring on Finite poset containing 5 elements with at most 3 nonzero terms"
      ]
     },
     "execution_count": 17,
     "metadata": {},
     "output_type": "execute_result"
    }
   ],
   "source": [
    "com = dualizing_complex(D, base_ring = ZZ)\n",
    "com"
   ]
  },
  {
   "cell_type": "code",
   "execution_count": 18,
   "metadata": {},
   "outputs": [
    {
     "name": "stdout",
     "output_type": "stream",
     "text": [
      "(-2, 0)\n"
     ]
    }
   ],
   "source": [
    "# non-zero sheaves are possibly here\n",
    "print(com.below_bound(), com.above_bound())"
   ]
  },
  {
   "cell_type": "code",
   "execution_count": 19,
   "metadata": {},
   "outputs": [
    {
     "data": {
      "text/plain": [
       "Locally Free Sheaf of Modules over Integer Ring on Finite poset containing 5 elements"
      ]
     },
     "execution_count": 19,
     "metadata": {},
     "output_type": "execute_result"
    }
   ],
   "source": [
    "# a sheaf at a certain degree can be accessed by square brackets\n",
    "com[-2]"
   ]
  },
  {
   "cell_type": "code",
   "execution_count": 20,
   "metadata": {},
   "outputs": [
    {
     "data": {
      "text/plain": [
       "Generic Morphism of Locally Free Sheaves of Modules over Integer Ring on Finite poset containing 5 elements\n",
       " From: Locally Free Sheaf of Modules over Integer Ring on Finite poset containing 5 elements\n",
       " To: Locally Free Sheaf of Modules over Integer Ring on Finite poset containing 5 elements"
      ]
     },
     "execution_count": 20,
     "metadata": {},
     "output_type": "execute_result"
    }
   ],
   "source": [
    "# we can also access the differentials\n",
    "\n",
    "# for example, the differential that goes from -2 to -1\n",
    "com.differential(-2)"
   ]
  },
  {
   "cell_type": "code",
   "execution_count": 21,
   "metadata": {},
   "outputs": [
    {
     "data": {
      "text/plain": [
       "Generic morphism:\n",
       "  From: Rank-4 free module Stalk of Locally Free Sheaf of Modules over Integer Ring on Finite poset containing 5 elements at 2 over the Integer Ring\n",
       "  To:   Rank-6 free module Stalk of Locally Free Sheaf of Modules over Integer Ring on Finite poset containing 5 elements at 2 over the Integer Ring"
      ]
     },
     "execution_count": 21,
     "metadata": {},
     "output_type": "execute_result"
    }
   ],
   "source": [
    "# this is a morphism of sheaves, it's components can be accessed using square brackets\n",
    "com.differential(-2)[2]"
   ]
  },
  {
   "cell_type": "code",
   "execution_count": 22,
   "metadata": {},
   "outputs": [
    {
     "data": {
      "text/plain": [
       "[1 0 1 0 0 0]\n",
       "[0 1 0 1 1 1]"
      ]
     },
     "execution_count": 22,
     "metadata": {},
     "output_type": "execute_result"
    }
   ],
   "source": [
    "com.differential(-1)[3].matrix()"
   ]
  },
  {
   "cell_type": "code",
   "execution_count": 23,
   "metadata": {},
   "outputs": [
    {
     "data": {
      "image/png": "[encoded data removed]",
      "text/plain": [
       "Graphics object consisting of 18 graphics primitives"
      ]
     },
     "metadata": {},
     "output_type": "display_data"
    },
    {
     "data": {
      "text/plain": [
       "(Cochain) Complex of Locally Free Sheaves of Modules over Integer Ring on Finite poset containing 8 elements with at most 5 nonzero terms"
      ]
     },
     "execution_count": 23,
     "metadata": {},
     "output_type": "execute_result"
    }
   ],
   "source": [
    "# Lets determine the dualizing complex of some random poset\n",
    "npoints = 8\n",
    "p = posets.RandomPoset(npoints, .4)\n",
    "p.show()\n",
    "d = dualizing_complex(p)\n",
    "d"
   ]
  },
  {
   "cell_type": "markdown",
   "metadata": {},
   "source": [
    "### other things\n",
    "An overview of some other things"
   ]
  },
  {
   "cell_type": "code",
   "execution_count": 24,
   "metadata": {},
   "outputs": [
    {
     "data": {
      "text/plain": [
       "Rank-0 free module Global Sections of Locally Free Sheaf of Modules over Integer Ring on Finite poset containing 5 elements over the Integer Ring"
      ]
     },
     "execution_count": 24,
     "metadata": {},
     "output_type": "execute_result"
    }
   ],
   "source": [
    "# Global sections of the sheaf\n",
    "F.global_sections()"
   ]
  },
  {
   "cell_type": "code",
   "execution_count": 25,
   "metadata": {},
   "outputs": [
    {
     "data": {
      "text/plain": [
       "Rank-0 free module Sections of Locally Free Sheaf of Modules over Integer Ring on Finite poset containing 5 elements on [2, 3, 4] over the Integer Ring"
      ]
     },
     "execution_count": 25,
     "metadata": {},
     "output_type": "execute_result"
    }
   ],
   "source": [
    "# Sections over an upward closed subset of F (upward closed subsets correspond to open sets\n",
    "#    under the equivalence between finite posets and finite T0 spaces)\n",
    "F.sections([2, 3, 4])"
   ]
  },
  {
   "cell_type": "code",
   "execution_count": 26,
   "metadata": {},
   "outputs": [
    {
     "data": {
      "text/plain": [
       "1"
      ]
     },
     "execution_count": 26,
     "metadata": {},
     "output_type": "execute_result"
    }
   ],
   "source": [
    "# The Euler Characteristic\n",
    "F.euler_characteristic()"
   ]
  },
  {
   "cell_type": "code",
   "execution_count": 27,
   "metadata": {},
   "outputs": [],
   "source": [
    "# The Godement sheaf, which comes together with a map into it\n",
    "epsilon, G0 = F.godement_sheaf()"
   ]
  },
  {
   "cell_type": "code",
   "execution_count": 28,
   "metadata": {},
   "outputs": [
    {
     "data": {
      "text/plain": [
       "True"
      ]
     },
     "execution_count": 28,
     "metadata": {},
     "output_type": "execute_result"
    }
   ],
   "source": [
    "# this map should be injective\n",
    "epsilon.is_injective()"
   ]
  },
  {
   "cell_type": "code",
   "execution_count": 29,
   "metadata": {},
   "outputs": [
    {
     "data": {
      "text/plain": [
       "{0: Z, 1: 0, 2: 0}"
      ]
     },
     "execution_count": 29,
     "metadata": {},
     "output_type": "execute_result"
    }
   ],
   "source": [
    "# godement sheaves are flaque, so the cohomology should be zero above degree 0\n",
    "G0.cohomology()"
   ]
  },
  {
   "cell_type": "code",
   "execution_count": 30,
   "metadata": {},
   "outputs": [
    {
     "data": {
      "text/plain": [
       "Locally Free Sheaf of Modules over Integer Ring on Finite poset containing 2 elements"
      ]
     },
     "execution_count": 30,
     "metadata": {},
     "output_type": "execute_result"
    }
   ],
   "source": [
    "# make the restriction sheaf to an upward closed subset\n",
    "F.restrict_to([2, 4])"
   ]
  }
 ],
 "metadata": {
  "kernelspec": {
   "display_name": "SageMath 8.8",
   "language": "sage",
   "name": "sagemath"
  },
  "language_info": {
   "codemirror_mode": {
    "name": "ipython",
    "version": 2
   },
   "file_extension": ".py",
   "mimetype": "text/x-python",
   "name": "python",
   "nbconvert_exporter": "python",
   "pygments_lexer": "ipython2",
   "version": "2.7.15"
  }
 },
 "nbformat": 4,
 "nbformat_minor": 2
}
